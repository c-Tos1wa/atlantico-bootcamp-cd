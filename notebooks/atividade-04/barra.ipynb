{
 "cells": [
  {
   "cell_type": "markdown",
   "id": "8cc8ab0c-3320-4a79-b1ce-16529dcddb54",
   "metadata": {
    "tags": []
   },
   "source": [
    "## Importação de bibliotecas"
   ]
  },
  {
   "cell_type": "code",
   "execution_count": 6,
   "id": "5ee3159d-16b0-4393-97de-e36bfb2002cc",
   "metadata": {},
   "outputs": [],
   "source": [
    "from matplotlib import pyplot as plt\n",
    "import pandas as pd\n",
    "import seaborn as sns"
   ]
  },
  {
   "cell_type": "markdown",
   "id": "a75410a1-8ac2-4a5f-8ef6-12f305bd04bc",
   "metadata": {},
   "source": [
    "## Leitura e apresentação dos dados"
   ]
  },
  {
   "cell_type": "code",
   "execution_count": 7,
   "id": "ad71e766-39e6-4fbb-94c5-2cea37084857",
   "metadata": {},
   "outputs": [
    {
     "data": {
      "text/html": [
       "<div>\n",
       "<style scoped>\n",
       "    .dataframe tbody tr th:only-of-type {\n",
       "        vertical-align: middle;\n",
       "    }\n",
       "\n",
       "    .dataframe tbody tr th {\n",
       "        vertical-align: top;\n",
       "    }\n",
       "\n",
       "    .dataframe thead th {\n",
       "        text-align: right;\n",
       "    }\n",
       "</style>\n",
       "<table border=\"1\" class=\"dataframe\">\n",
       "  <thead>\n",
       "    <tr style=\"text-align: right;\">\n",
       "      <th></th>\n",
       "      <th>arrecadacao</th>\n",
       "      <th>titulo</th>\n",
       "    </tr>\n",
       "  </thead>\n",
       "  <tbody>\n",
       "    <tr>\n",
       "      <th>0</th>\n",
       "      <td>7316746</td>\n",
       "      <td>Ferdinand</td>\n",
       "    </tr>\n",
       "    <tr>\n",
       "      <th>1</th>\n",
       "      <td>36169328</td>\n",
       "      <td>Jumanji: Welcome to the Jungle</td>\n",
       "    </tr>\n",
       "    <tr>\n",
       "      <th>2</th>\n",
       "      <td>19928525</td>\n",
       "      <td>Pitch Perfect 3</td>\n",
       "    </tr>\n",
       "    <tr>\n",
       "      <th>3</th>\n",
       "      <td>71565498</td>\n",
       "      <td>Star Wars: The Last Jedi</td>\n",
       "    </tr>\n",
       "    <tr>\n",
       "      <th>4</th>\n",
       "      <td>8805843</td>\n",
       "      <td>The Greatest Showman</td>\n",
       "    </tr>\n",
       "  </tbody>\n",
       "</table>\n",
       "</div>"
      ],
      "text/plain": [
       "   arrecadacao                          titulo\n",
       "0      7316746                       Ferdinand\n",
       "1     36169328  Jumanji: Welcome to the Jungle\n",
       "2     19928525                 Pitch Perfect 3\n",
       "3     71565498        Star Wars: The Last Jedi\n",
       "4      8805843            The Greatest Showman"
      ]
     },
     "execution_count": 7,
     "metadata": {},
     "output_type": "execute_result"
    }
   ],
   "source": [
    "database = pd.read_csv('https://gist.githubusercontent.com/omadson/770934cb0df9e2d2c3e8db031f1139a5/raw/4d181efc035b327d9d66256915951384517c603e/arrecadacao.csv')\n",
    "database"
   ]
  },
  {
   "cell_type": "markdown",
   "id": "b765cfd8-6d0c-4ba2-9de5-83980c72fbee",
   "metadata": {},
   "source": [
    "## Tratamento dos valores"
   ]
  },
  {
   "cell_type": "code",
   "execution_count": 8,
   "id": "50e6e323-3c5a-43ae-994f-a6d19da612a7",
   "metadata": {},
   "outputs": [],
   "source": [
    "df = database.assign(arrecadacao_milhao = database.arrecadacao/1000000)"
   ]
  },
  {
   "cell_type": "markdown",
   "id": "ad75e4e9-f8fe-4cfa-bd85-bd9162ce3fbd",
   "metadata": {},
   "source": [
    "## Ordenação dos valores em ordem descrescente"
   ]
  },
  {
   "cell_type": "code",
   "execution_count": 9,
   "id": "e59862c5-2083-40cb-9099-f1f5c889640f",
   "metadata": {},
   "outputs": [],
   "source": [
    "df = df.sort_values(by='arrecadacao_milhao', ascending=False)"
   ]
  },
  {
   "cell_type": "markdown",
   "id": "55881798-ee87-410e-abc2-f67767ed089c",
   "metadata": {
    "tags": []
   },
   "source": [
    "## Apresentação do gráfico\n",
    "\n",
    " - Configuração do gráfico de barras"
   ]
  },
  {
   "cell_type": "code",
   "execution_count": 10,
   "id": "3ef5a66a-53df-4ed4-a21c-a51acaf6fb41",
   "metadata": {},
   "outputs": [
    {
     "data": {
      "image/png": "[encoded data removed]",
      "text/plain": [
       "<Figure size 360x216 with 1 Axes>"
      ]
     },
     "metadata": {},
     "output_type": "display_data"
    }
   ],
   "source": [
    "#mostra as linhas verticais do gráfico\n",
    "sns.set_style('whitegrid')\n",
    "\n",
    "#mostra o tamanho das barras\n",
    "plt.figure(figsize=(5,3))\n",
    "\n",
    "axis = sns.barplot(data = df, x = 'arrecadacao_milhao', y = 'titulo', color = 'red')\n",
    "\n",
    "#adiciona valores as barras\n",
    "axis.bar_label(\n",
    "    axis.containers[0],\n",
    "    fmt = '%.1f',\n",
    "    label_type = 'center',\n",
    "    color = 'white',\n",
    ")\n",
    "\n",
    "#nomeia os eixos e dá nome ao gráfico\n",
    "plt.title('Maiores bilheterias de filmes')\n",
    "plt.xlabel('arrecadação (milhões de US$)')\n",
    "plt.ylabel('filme')\n",
    "\n",
    "#adiciona linha vertical na origem\n",
    "axis.set(frame_on=False)\n",
    "\n",
    "#remove as bordas\n",
    "axis.axvline(0, color='k', clip_on=False)\n",
    "plt.show()"
   ]
  },
  {
   "cell_type": "code",
   "execution_count": null,
   "id": "9d6e0f19-b69a-4709-ac9d-2f0f15b4d6da",
   "metadata": {},
   "outputs": [],
   "source": []
  }
 ],
 "metadata": {
  "kernelspec": {
   "display_name": "Python 3 (ipykernel)",
   "language": "python",
   "name": "python3"
  },
  "language_info": {
   "codemirror_mode": {
    "name": "ipython",
    "version": 3
   },
   "file_extension": ".py",
   "mimetype": "text/x-python",
   "name": "python",
   "nbconvert_exporter": "python",
   "pygments_lexer": "ipython3",
   "version": "3.8.10"
  }
 },
 "nbformat": 4,
 "nbformat_minor": 5
}
