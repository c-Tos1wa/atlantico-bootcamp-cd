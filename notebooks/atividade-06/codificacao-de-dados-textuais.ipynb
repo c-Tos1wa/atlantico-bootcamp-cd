{
 "cells": [
  {
   "cell_type": "markdown",
   "id": "f6fe296b-cd51-46bb-8692-e92d89677c3a",
   "metadata": {},
   "source": [
    "- Bag of Words (BoW)"
   ]
  },
  {
   "cell_type": "code",
   "execution_count": 1,
   "id": "17e6633a-eed2-4e35-beff-7b34cb18b471",
   "metadata": {},
   "outputs": [],
   "source": [
    "from sklearn.feature_extraction.text import CountVectorizer, TfidfTransformer"
   ]
  },
  {
   "cell_type": "code",
   "execution_count": 2,
   "id": "be92f15b-bea0-45fe-9c5b-5508ad5b8e2e",
   "metadata": {},
   "outputs": [],
   "source": [
    "phrases = [\n",
    "            \"John likes\",\n",
    "            \"likes to\",\n",
    "            \"to watch\",\n",
    "            \"watch movies\",\n",
    "            \"Mary likes\",\n",
    "            \"likes movies\",\n",
    "            \"movies too\"\n",
    "          ]"
   ]
  },
  {
   "cell_type": "code",
   "execution_count": 3,
   "id": "f36df69b-8267-4b81-a006-a7cdb92bc40f",
   "metadata": {},
   "outputs": [],
   "source": [
    "b_vector = CountVectorizer()\n",
    "b_vector.fit(phrases)\n",
    "bow_vector = b_vector.transform(phrases)"
   ]
  },
  {
   "cell_type": "code",
   "execution_count": 4,
   "id": "21640077-bd3c-4fb2-9338-3e4eaf4ab4ed",
   "metadata": {},
   "outputs": [
    {
     "data": {
      "text/plain": [
       "(7, 7)"
      ]
     },
     "execution_count": 4,
     "metadata": {},
     "output_type": "execute_result"
    }
   ],
   "source": [
    "bow_vector.shape"
   ]
  },
  {
   "cell_type": "code",
   "execution_count": 5,
   "id": "3816ef32-b44a-4d9a-a056-b673f7eb1657",
   "metadata": {},
   "outputs": [
    {
     "data": {
      "text/plain": [
       "array([[1, 1, 0, 0, 0, 0, 0],\n",
       "       [0, 1, 0, 0, 1, 0, 0],\n",
       "       [0, 0, 0, 0, 1, 0, 1],\n",
       "       [0, 0, 0, 1, 0, 0, 1],\n",
       "       [0, 1, 1, 0, 0, 0, 0],\n",
       "       [0, 1, 0, 1, 0, 0, 0],\n",
       "       [0, 0, 0, 1, 0, 1, 0]])"
      ]
     },
     "execution_count": 5,
     "metadata": {},
     "output_type": "execute_result"
    }
   ],
   "source": [
    "bow_vector.toarray()"
   ]
  },
  {
   "cell_type": "code",
   "execution_count": 6,
   "id": "846d00ba-574d-4e1e-a31f-5575cf0a9578",
   "metadata": {},
   "outputs": [
    {
     "data": {
      "text/plain": [
       "{'john': 0, 'likes': 1, 'to': 4, 'watch': 6, 'movies': 3, 'mary': 2, 'too': 5}"
      ]
     },
     "execution_count": 6,
     "metadata": {},
     "output_type": "execute_result"
    }
   ],
   "source": [
    "b_vector.vocabulary_"
   ]
  },
  {
   "cell_type": "markdown",
   "id": "21e4d779-563a-4de8-bbae-523ddb526b66",
   "metadata": {},
   "source": [
    "- TF-IDF"
   ]
  },
  {
   "cell_type": "code",
   "execution_count": 17,
   "id": "6442a18f-35a3-4ab4-aa94-d0a309b44c9f",
   "metadata": {},
   "outputs": [],
   "source": [
    "t_vector = TfidfTransformer().fit(bow_vector)\n",
    "tf_vector = t_vector.transform(bow_vector)"
   ]
  },
  {
   "cell_type": "code",
   "execution_count": 18,
   "id": "58aeab30-f404-436d-8a5f-0654b7c98397",
   "metadata": {},
   "outputs": [
    {
     "data": {
      "text/plain": [
       "array([[0.85141699, 0.52448938, 0.        , 0.        , 0.        ,\n",
       "        0.        , 0.        ],\n",
       "       [0.        , 0.59594003, 0.        , 0.        , 0.80302894,\n",
       "        0.        , 0.        ],\n",
       "       [0.        , 0.        , 0.        , 0.        , 0.70710678,\n",
       "        0.        , 0.70710678],\n",
       "       [0.        , 0.        , 0.        , 0.64974959, 0.        ,\n",
       "        0.        , 0.76014832],\n",
       "       [0.        , 0.52448938, 0.85141699, 0.        , 0.        ,\n",
       "        0.        , 0.        ],\n",
       "       [0.        , 0.65559486, 0.        , 0.75511282, 0.        ,\n",
       "        0.        , 0.        ],\n",
       "       [0.        , 0.        , 0.        , 0.57866699, 0.        ,\n",
       "        0.81556393, 0.        ]])"
      ]
     },
     "execution_count": 18,
     "metadata": {},
     "output_type": "execute_result"
    }
   ],
   "source": [
    "tf_vector.toarray()"
   ]
  },
  {
   "cell_type": "code",
   "execution_count": null,
   "id": "6d13abd1-c6c9-4fce-babb-9f916ac18a25",
   "metadata": {},
   "outputs": [],
   "source": []
  }
 ],
 "metadata": {
  "kernelspec": {
   "display_name": "Python 3 (ipykernel)",
   "language": "python",
   "name": "python3"
  },
  "language_info": {
   "codemirror_mode": {
    "name": "ipython",
    "version": 3
   },
   "file_extension": ".py",
   "mimetype": "text/x-python",
   "name": "python",
   "nbconvert_exporter": "python",
   "pygments_lexer": "ipython3",
   "version": "3.8.10"
  }
 },
 "nbformat": 4,
 "nbformat_minor": 5
}
