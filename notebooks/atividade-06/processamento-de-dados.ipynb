{
 "cells": [
  {
   "cell_type": "code",
   "execution_count": 1,
   "id": "b28027b3-e8f5-4853-b3a5-476aa9910613",
   "metadata": {},
   "outputs": [],
   "source": [
    "import pandas as pd\n",
    "import seaborn as sns\n",
    "import matplotlib.pyplot as plt\n",
    "import numpy as np\n",
    "from IPython.display import Markdown"
   ]
  },
  {
   "cell_type": "markdown",
   "id": "2822ba15-9415-4b32-8b6f-dd494a046835",
   "metadata": {},
   "source": [
    "Carregar dataset \"Penguins\" do seaborn"
   ]
  },
  {
   "cell_type": "code",
   "execution_count": 93,
   "id": "32e2a752-4bb0-4b5e-b2f3-36d1c9c507be",
   "metadata": {},
   "outputs": [],
   "source": [
    "penguins = sns.load_dataset('penguins')"
   ]
  },
  {
   "cell_type": "markdown",
   "id": "18105453-d96a-4d83-87dc-45bc93f1e8c2",
   "metadata": {},
   "source": [
    "1. Dados faltantes: para a prática, será adicionado ao dataset"
   ]
  },
  {
   "cell_type": "code",
   "execution_count": 3,
   "id": "9c8e5f95-7477-463b-bc2a-7ba29663af50",
   "metadata": {},
   "outputs": [],
   "source": [
    "missing_rate = 0.4\n",
    "columns = ['island', 'body_mass_g']\n",
    "for column in columns:\n",
    "    missed_rows = np.random.choice(\n",
    "        range(penguins.shape[0]),\n",
    "        size = int(penguins.shape[0] * missing_rate),\n",
    "        replace=False)\n",
    "    penguins.loc[missed_rows, column] = np.NaN"
   ]
  },
  {
   "cell_type": "code",
   "execution_count": 94,
   "id": "92f76b36-be1c-4071-8933-2d862d1c7e87",
   "metadata": {},
   "outputs": [
    {
     "data": {
      "text/markdown": [
       "## Pinguins"
      ],
      "text/plain": [
       "<IPython.core.display.Markdown object>"
      ]
     },
     "metadata": {},
     "output_type": "display_data"
    },
    {
     "data": {
      "text/html": [
       "<div>\n",
       "<style scoped>\n",
       "    .dataframe tbody tr th:only-of-type {\n",
       "        vertical-align: middle;\n",
       "    }\n",
       "\n",
       "    .dataframe tbody tr th {\n",
       "        vertical-align: top;\n",
       "    }\n",
       "\n",
       "    .dataframe thead th {\n",
       "        text-align: right;\n",
       "    }\n",
       "</style>\n",
       "<table border=\"1\" class=\"dataframe\">\n",
       "  <thead>\n",
       "    <tr style=\"text-align: right;\">\n",
       "      <th></th>\n",
       "      <th>species</th>\n",
       "      <th>island</th>\n",
       "      <th>bill_length_mm</th>\n",
       "      <th>bill_depth_mm</th>\n",
       "      <th>flipper_length_mm</th>\n",
       "      <th>body_mass_g</th>\n",
       "      <th>sex</th>\n",
       "    </tr>\n",
       "  </thead>\n",
       "  <tbody>\n",
       "    <tr>\n",
       "      <th>0</th>\n",
       "      <td>Adelie</td>\n",
       "      <td>Torgersen</td>\n",
       "      <td>39.1</td>\n",
       "      <td>18.7</td>\n",
       "      <td>181.0</td>\n",
       "      <td>3750.0</td>\n",
       "      <td>Male</td>\n",
       "    </tr>\n",
       "    <tr>\n",
       "      <th>1</th>\n",
       "      <td>Adelie</td>\n",
       "      <td>Torgersen</td>\n",
       "      <td>39.5</td>\n",
       "      <td>17.4</td>\n",
       "      <td>186.0</td>\n",
       "      <td>3800.0</td>\n",
       "      <td>Female</td>\n",
       "    </tr>\n",
       "    <tr>\n",
       "      <th>2</th>\n",
       "      <td>Adelie</td>\n",
       "      <td>Torgersen</td>\n",
       "      <td>40.3</td>\n",
       "      <td>18.0</td>\n",
       "      <td>195.0</td>\n",
       "      <td>3250.0</td>\n",
       "      <td>Female</td>\n",
       "    </tr>\n",
       "    <tr>\n",
       "      <th>3</th>\n",
       "      <td>Adelie</td>\n",
       "      <td>Torgersen</td>\n",
       "      <td>NaN</td>\n",
       "      <td>NaN</td>\n",
       "      <td>NaN</td>\n",
       "      <td>NaN</td>\n",
       "      <td>NaN</td>\n",
       "    </tr>\n",
       "    <tr>\n",
       "      <th>4</th>\n",
       "      <td>Adelie</td>\n",
       "      <td>Torgersen</td>\n",
       "      <td>36.7</td>\n",
       "      <td>19.3</td>\n",
       "      <td>193.0</td>\n",
       "      <td>3450.0</td>\n",
       "      <td>Female</td>\n",
       "    </tr>\n",
       "    <tr>\n",
       "      <th>5</th>\n",
       "      <td>Adelie</td>\n",
       "      <td>Torgersen</td>\n",
       "      <td>39.3</td>\n",
       "      <td>20.6</td>\n",
       "      <td>190.0</td>\n",
       "      <td>3650.0</td>\n",
       "      <td>Male</td>\n",
       "    </tr>\n",
       "    <tr>\n",
       "      <th>6</th>\n",
       "      <td>Adelie</td>\n",
       "      <td>Torgersen</td>\n",
       "      <td>38.9</td>\n",
       "      <td>17.8</td>\n",
       "      <td>181.0</td>\n",
       "      <td>3625.0</td>\n",
       "      <td>Female</td>\n",
       "    </tr>\n",
       "    <tr>\n",
       "      <th>7</th>\n",
       "      <td>Adelie</td>\n",
       "      <td>Torgersen</td>\n",
       "      <td>39.2</td>\n",
       "      <td>19.6</td>\n",
       "      <td>195.0</td>\n",
       "      <td>4675.0</td>\n",
       "      <td>Male</td>\n",
       "    </tr>\n",
       "    <tr>\n",
       "      <th>8</th>\n",
       "      <td>Adelie</td>\n",
       "      <td>Torgersen</td>\n",
       "      <td>34.1</td>\n",
       "      <td>18.1</td>\n",
       "      <td>193.0</td>\n",
       "      <td>3475.0</td>\n",
       "      <td>NaN</td>\n",
       "    </tr>\n",
       "    <tr>\n",
       "      <th>9</th>\n",
       "      <td>Adelie</td>\n",
       "      <td>Torgersen</td>\n",
       "      <td>42.0</td>\n",
       "      <td>20.2</td>\n",
       "      <td>190.0</td>\n",
       "      <td>4250.0</td>\n",
       "      <td>NaN</td>\n",
       "    </tr>\n",
       "  </tbody>\n",
       "</table>\n",
       "</div>"
      ],
      "text/plain": [
       "  species     island  bill_length_mm  bill_depth_mm  flipper_length_mm  \\\n",
       "0  Adelie  Torgersen            39.1           18.7              181.0   \n",
       "1  Adelie  Torgersen            39.5           17.4              186.0   \n",
       "2  Adelie  Torgersen            40.3           18.0              195.0   \n",
       "3  Adelie  Torgersen             NaN            NaN                NaN   \n",
       "4  Adelie  Torgersen            36.7           19.3              193.0   \n",
       "5  Adelie  Torgersen            39.3           20.6              190.0   \n",
       "6  Adelie  Torgersen            38.9           17.8              181.0   \n",
       "7  Adelie  Torgersen            39.2           19.6              195.0   \n",
       "8  Adelie  Torgersen            34.1           18.1              193.0   \n",
       "9  Adelie  Torgersen            42.0           20.2              190.0   \n",
       "\n",
       "   body_mass_g     sex  \n",
       "0       3750.0    Male  \n",
       "1       3800.0  Female  \n",
       "2       3250.0  Female  \n",
       "3          NaN     NaN  \n",
       "4       3450.0  Female  \n",
       "5       3650.0    Male  \n",
       "6       3625.0  Female  \n",
       "7       4675.0    Male  \n",
       "8       3475.0     NaN  \n",
       "9       4250.0     NaN  "
      ]
     },
     "execution_count": 94,
     "metadata": {},
     "output_type": "execute_result"
    }
   ],
   "source": [
    "display(Markdown(\"## Pinguins\"))\n",
    "penguins.head(10)"
   ]
  },
  {
   "cell_type": "markdown",
   "id": "82b7a6bb-d834-4992-a641-87a58e46c0af",
   "metadata": {},
   "source": [
    "#### *Tratamento de variável categórica*"
   ]
  },
  {
   "cell_type": "markdown",
   "id": "65ff2006-5f20-4d29-9725-3ec97d84cf25",
   "metadata": {
    "jp-MarkdownHeadingCollapsed": true,
    "tags": []
   },
   "source": [
    "1.1 Uso de One Hot Encoder"
   ]
  },
  {
   "cell_type": "code",
   "execution_count": 5,
   "id": "16082fb5-141f-432f-93f6-c8dbbaf4d68c",
   "metadata": {},
   "outputs": [],
   "source": [
    "from sklearn.preprocessing import OneHotEncoder"
   ]
  },
  {
   "cell_type": "code",
   "execution_count": 6,
   "id": "2239365f-e0d1-4cb4-800a-9a404ed07870",
   "metadata": {},
   "outputs": [
    {
     "data": {
      "text/plain": [
       "array(['Adelie', 'Chinstrap', 'Gentoo'], dtype=object)"
      ]
     },
     "execution_count": 6,
     "metadata": {},
     "output_type": "execute_result"
    }
   ],
   "source": [
    "penguins.species.unique()"
   ]
  },
  {
   "cell_type": "code",
   "execution_count": 7,
   "id": "dab489fb-775e-4355-82dd-cf5756558d93",
   "metadata": {},
   "outputs": [
    {
     "data": {
      "text/plain": [
       "array([[1., 0., 0.],\n",
       "       [1., 0., 0.],\n",
       "       [1., 0., 0.],\n",
       "       ...,\n",
       "       [0., 0., 1.],\n",
       "       [0., 0., 1.],\n",
       "       [0., 0., 1.]])"
      ]
     },
     "execution_count": 7,
     "metadata": {},
     "output_type": "execute_result"
    }
   ],
   "source": [
    "nominal_encoder = OneHotEncoder()\n",
    "nominal_encoder.fit(penguins[['species']])\n",
    "nominal_encoder.transform(penguins[['species']]).toarray()"
   ]
  },
  {
   "cell_type": "markdown",
   "id": "0928a2c8-ce25-401c-991c-03a7bc20f7dc",
   "metadata": {
    "jp-MarkdownHeadingCollapsed": true,
    "tags": []
   },
   "source": [
    "1.2 Uso de Ordinal Encoder"
   ]
  },
  {
   "cell_type": "code",
   "execution_count": 8,
   "id": "7ecb1222-168c-488b-bcd5-9c5e0fe0659c",
   "metadata": {},
   "outputs": [],
   "source": [
    "from sklearn.preprocessing import OrdinalEncoder"
   ]
  },
  {
   "cell_type": "code",
   "execution_count": 9,
   "id": "048b14bd-d40e-42d5-9a4d-cbd05b283c01",
   "metadata": {},
   "outputs": [
    {
     "data": {
      "text/html": [
       "<div>\n",
       "<style scoped>\n",
       "    .dataframe tbody tr th:only-of-type {\n",
       "        vertical-align: middle;\n",
       "    }\n",
       "\n",
       "    .dataframe tbody tr th {\n",
       "        vertical-align: top;\n",
       "    }\n",
       "\n",
       "    .dataframe thead th {\n",
       "        text-align: right;\n",
       "    }\n",
       "</style>\n",
       "<table border=\"1\" class=\"dataframe\">\n",
       "  <thead>\n",
       "    <tr style=\"text-align: right;\">\n",
       "      <th></th>\n",
       "      <th>total_bill</th>\n",
       "      <th>tip</th>\n",
       "      <th>sex</th>\n",
       "      <th>smoker</th>\n",
       "      <th>day</th>\n",
       "      <th>time</th>\n",
       "      <th>size</th>\n",
       "    </tr>\n",
       "  </thead>\n",
       "  <tbody>\n",
       "    <tr>\n",
       "      <th>0</th>\n",
       "      <td>16.99</td>\n",
       "      <td>1.01</td>\n",
       "      <td>Female</td>\n",
       "      <td>No</td>\n",
       "      <td>Sun</td>\n",
       "      <td>Dinner</td>\n",
       "      <td>2</td>\n",
       "    </tr>\n",
       "    <tr>\n",
       "      <th>1</th>\n",
       "      <td>10.34</td>\n",
       "      <td>1.66</td>\n",
       "      <td>Male</td>\n",
       "      <td>No</td>\n",
       "      <td>Sun</td>\n",
       "      <td>Dinner</td>\n",
       "      <td>3</td>\n",
       "    </tr>\n",
       "    <tr>\n",
       "      <th>2</th>\n",
       "      <td>21.01</td>\n",
       "      <td>3.50</td>\n",
       "      <td>Male</td>\n",
       "      <td>No</td>\n",
       "      <td>Sun</td>\n",
       "      <td>Dinner</td>\n",
       "      <td>3</td>\n",
       "    </tr>\n",
       "    <tr>\n",
       "      <th>3</th>\n",
       "      <td>23.68</td>\n",
       "      <td>3.31</td>\n",
       "      <td>Male</td>\n",
       "      <td>No</td>\n",
       "      <td>Sun</td>\n",
       "      <td>Dinner</td>\n",
       "      <td>2</td>\n",
       "    </tr>\n",
       "    <tr>\n",
       "      <th>4</th>\n",
       "      <td>24.59</td>\n",
       "      <td>3.61</td>\n",
       "      <td>Female</td>\n",
       "      <td>No</td>\n",
       "      <td>Sun</td>\n",
       "      <td>Dinner</td>\n",
       "      <td>4</td>\n",
       "    </tr>\n",
       "  </tbody>\n",
       "</table>\n",
       "</div>"
      ],
      "text/plain": [
       "   total_bill   tip     sex smoker  day    time  size\n",
       "0       16.99  1.01  Female     No  Sun  Dinner     2\n",
       "1       10.34  1.66    Male     No  Sun  Dinner     3\n",
       "2       21.01  3.50    Male     No  Sun  Dinner     3\n",
       "3       23.68  3.31    Male     No  Sun  Dinner     2\n",
       "4       24.59  3.61  Female     No  Sun  Dinner     4"
      ]
     },
     "execution_count": 9,
     "metadata": {},
     "output_type": "execute_result"
    }
   ],
   "source": [
    "tips = sns.load_dataset('tips')\n",
    "tips.head()"
   ]
  },
  {
   "cell_type": "code",
   "execution_count": 10,
   "id": "1dc86252-ef98-4041-ac82-5322589d4ee7",
   "metadata": {},
   "outputs": [
    {
     "data": {
      "text/plain": [
       "array([[2.],\n",
       "       [2.],\n",
       "       [2.],\n",
       "       [2.],\n",
       "       [2.],\n",
       "       [2.],\n",
       "       [2.],\n",
       "       [2.],\n",
       "       [2.],\n",
       "       [2.],\n",
       "       [2.],\n",
       "       [2.],\n",
       "       [2.],\n",
       "       [2.],\n",
       "       [2.],\n",
       "       [2.],\n",
       "       [2.],\n",
       "       [2.],\n",
       "       [2.],\n",
       "       [1.],\n",
       "       [1.],\n",
       "       [1.],\n",
       "       [1.],\n",
       "       [1.],\n",
       "       [1.],\n",
       "       [1.],\n",
       "       [1.],\n",
       "       [1.],\n",
       "       [1.],\n",
       "       [1.]])"
      ]
     },
     "execution_count": 10,
     "metadata": {},
     "output_type": "execute_result"
    }
   ],
   "source": [
    "ordinal_encoder = OrdinalEncoder()\n",
    "ordinal_encoder.fit_transform(tips[['day']])[:30]"
   ]
  },
  {
   "cell_type": "markdown",
   "id": "c5c96f60-f308-4ec7-b98b-465154677052",
   "metadata": {
    "jp-MarkdownHeadingCollapsed": true,
    "tags": []
   },
   "source": [
    "#### *Tratamento de dados faltantes*"
   ]
  },
  {
   "cell_type": "code",
   "execution_count": 11,
   "id": "02585590-0274-4ae4-867d-52213d8cc4b0",
   "metadata": {},
   "outputs": [],
   "source": [
    "from sklearn.impute import SimpleImputer, KNNImputer\n",
    "from sklearn.experimental import enable_iterative_imputer\n",
    "from sklearn.impute import IterativeImputer"
   ]
  },
  {
   "cell_type": "markdown",
   "id": "12b82bf5-db81-49ed-9ecf-856ce2202844",
   "metadata": {},
   "source": [
    "    1. Deleção"
   ]
  },
  {
   "cell_type": "code",
   "execution_count": 12,
   "id": "4b20cfe2-3b9b-45f7-b812-9fd31c25fd6b",
   "metadata": {},
   "outputs": [
    {
     "data": {
      "text/markdown": [
       "Quantidade e variáveis faltantes "
      ],
      "text/plain": [
       "<IPython.core.display.Markdown object>"
      ]
     },
     "metadata": {},
     "output_type": "display_data"
    },
    {
     "data": {
      "text/plain": [
       "species                0\n",
       "island               137\n",
       "bill_length_mm         2\n",
       "bill_depth_mm          2\n",
       "flipper_length_mm      2\n",
       "body_mass_g          138\n",
       "sex                   11\n",
       "dtype: int64"
      ]
     },
     "metadata": {},
     "output_type": "display_data"
    },
    {
     "name": "stdout",
     "output_type": "stream",
     "text": [
      "Formato da tabela: (344, 7)\n"
     ]
    }
   ],
   "source": [
    "display(Markdown('Quantidade e variáveis faltantes '))\n",
    "display(penguins.isnull().sum())\n",
    "shape = penguins.shape\n",
    "print(f\"Formato da tabela: {shape}\")"
   ]
  },
  {
   "cell_type": "markdown",
   "id": "02cf101c-ea7d-4558-9a96-ec12955d64d6",
   "metadata": {},
   "source": [
    "    1.1. Deleção de linhas"
   ]
  },
  {
   "cell_type": "code",
   "execution_count": 13,
   "id": "0a0edfaf-01c6-442f-9b83-1735188b4b76",
   "metadata": {},
   "outputs": [
    {
     "name": "stdout",
     "output_type": "stream",
     "text": [
      "Formato da tabela: (119, 7)\n"
     ]
    }
   ],
   "source": [
    "drop = penguins.dropna().shape\n",
    "print(f\"Formato da tabela: {drop}\")"
   ]
  },
  {
   "cell_type": "markdown",
   "id": "c8029bcc-863b-4124-b24e-d482ef4c8ebe",
   "metadata": {},
   "source": [
    "    1.2. Deleção de colunas"
   ]
  },
  {
   "cell_type": "code",
   "execution_count": 14,
   "id": "d0e66b14-2455-4492-aa8b-ca920ec48d8a",
   "metadata": {},
   "outputs": [
    {
     "data": {
      "text/html": [
       "<div>\n",
       "<style scoped>\n",
       "    .dataframe tbody tr th:only-of-type {\n",
       "        vertical-align: middle;\n",
       "    }\n",
       "\n",
       "    .dataframe tbody tr th {\n",
       "        vertical-align: top;\n",
       "    }\n",
       "\n",
       "    .dataframe thead th {\n",
       "        text-align: right;\n",
       "    }\n",
       "</style>\n",
       "<table border=\"1\" class=\"dataframe\">\n",
       "  <thead>\n",
       "    <tr style=\"text-align: right;\">\n",
       "      <th></th>\n",
       "      <th>species</th>\n",
       "    </tr>\n",
       "  </thead>\n",
       "  <tbody>\n",
       "    <tr>\n",
       "      <th>0</th>\n",
       "      <td>Adelie</td>\n",
       "    </tr>\n",
       "    <tr>\n",
       "      <th>1</th>\n",
       "      <td>Adelie</td>\n",
       "    </tr>\n",
       "    <tr>\n",
       "      <th>2</th>\n",
       "      <td>Adelie</td>\n",
       "    </tr>\n",
       "    <tr>\n",
       "      <th>3</th>\n",
       "      <td>Adelie</td>\n",
       "    </tr>\n",
       "    <tr>\n",
       "      <th>4</th>\n",
       "      <td>Adelie</td>\n",
       "    </tr>\n",
       "    <tr>\n",
       "      <th>...</th>\n",
       "      <td>...</td>\n",
       "    </tr>\n",
       "    <tr>\n",
       "      <th>339</th>\n",
       "      <td>Gentoo</td>\n",
       "    </tr>\n",
       "    <tr>\n",
       "      <th>340</th>\n",
       "      <td>Gentoo</td>\n",
       "    </tr>\n",
       "    <tr>\n",
       "      <th>341</th>\n",
       "      <td>Gentoo</td>\n",
       "    </tr>\n",
       "    <tr>\n",
       "      <th>342</th>\n",
       "      <td>Gentoo</td>\n",
       "    </tr>\n",
       "    <tr>\n",
       "      <th>343</th>\n",
       "      <td>Gentoo</td>\n",
       "    </tr>\n",
       "  </tbody>\n",
       "</table>\n",
       "<p>344 rows × 1 columns</p>\n",
       "</div>"
      ],
      "text/plain": [
       "    species\n",
       "0    Adelie\n",
       "1    Adelie\n",
       "2    Adelie\n",
       "3    Adelie\n",
       "4    Adelie\n",
       "..      ...\n",
       "339  Gentoo\n",
       "340  Gentoo\n",
       "341  Gentoo\n",
       "342  Gentoo\n",
       "343  Gentoo\n",
       "\n",
       "[344 rows x 1 columns]"
      ]
     },
     "execution_count": 14,
     "metadata": {},
     "output_type": "execute_result"
    }
   ],
   "source": [
    "penguins.dropna(axis=1)"
   ]
  },
  {
   "cell_type": "markdown",
   "id": "ac6df948-e716-43ca-ad53-1cd81f38e4a1",
   "metadata": {},
   "source": [
    "2. Imputação"
   ]
  },
  {
   "cell_type": "markdown",
   "id": "67197440-a17c-4802-a6f3-65827170540f",
   "metadata": {},
   "source": [
    "    2.1. Estatística de tendência central"
   ]
  },
  {
   "cell_type": "markdown",
   "id": "3c014f9d-0c86-4d75-a7d4-ec2c5a287acf",
   "metadata": {},
   "source": [
    "    2.1.1 Média"
   ]
  },
  {
   "cell_type": "code",
   "execution_count": 15,
   "id": "cbce6287-d494-4737-87e4-17254e6b7f08",
   "metadata": {},
   "outputs": [
    {
     "data": {
      "text/plain": [
       "array([[3750.        ],\n",
       "       [3800.        ],\n",
       "       [3250.        ],\n",
       "       [4224.87864078],\n",
       "       [3450.        ],\n",
       "       [3650.        ],\n",
       "       [3625.        ],\n",
       "       [4224.87864078],\n",
       "       [4224.87864078],\n",
       "       [4250.        ],\n",
       "       [3300.        ],\n",
       "       [4224.87864078],\n",
       "       [4224.87864078],\n",
       "       [4224.87864078],\n",
       "       [4224.87864078]])"
      ]
     },
     "execution_count": 15,
     "metadata": {},
     "output_type": "execute_result"
    }
   ],
   "source": [
    "mean_imputer = SimpleImputer(strategy='mean')\n",
    "mean_imputer.fit(penguins[['body_mass_g']])\n",
    "mean_imputer.transform(penguins[['body_mass_g']])[:15]"
   ]
  },
  {
   "cell_type": "markdown",
   "id": "4d2814b9-9804-422a-b1bf-bfc1143777bc",
   "metadata": {},
   "source": [
    "     2.1.2. Mediana"
   ]
  },
  {
   "cell_type": "code",
   "execution_count": 16,
   "id": "88936e34-9a1a-47f6-a9c9-f50577cff673",
   "metadata": {},
   "outputs": [
    {
     "data": {
      "text/plain": [
       "array([[3750.],\n",
       "       [3800.],\n",
       "       [3250.],\n",
       "       [4000.],\n",
       "       [3450.],\n",
       "       [3650.],\n",
       "       [3625.],\n",
       "       [4000.],\n",
       "       [4000.],\n",
       "       [4250.]])"
      ]
     },
     "execution_count": 16,
     "metadata": {},
     "output_type": "execute_result"
    }
   ],
   "source": [
    "median_imputer = SimpleImputer(strategy='median')\n",
    "median_imputer.fit_transform(penguins[['body_mass_g']])[:10]"
   ]
  },
  {
   "cell_type": "markdown",
   "id": "8327fe5a-b172-47c2-98cb-fac29b9c715e",
   "metadata": {},
   "source": [
    "    2.2. Aprendizado de máquina"
   ]
  },
  {
   "cell_type": "code",
   "execution_count": 17,
   "id": "786f465e-4149-49da-ba83-d01bf9e7575f",
   "metadata": {},
   "outputs": [],
   "source": [
    "from sklearn.linear_model import LinearRegression"
   ]
  },
  {
   "cell_type": "code",
   "execution_count": 18,
   "id": "7df32dc0-e1e1-47af-b6b0-e48bd2d3c004",
   "metadata": {},
   "outputs": [
    {
     "data": {
      "text/plain": [
       "array([[  39.1,   18.7,  181. , 3750. ],\n",
       "       [  39.5,   17.4,  186. , 3800. ],\n",
       "       [  40.3,   18. ,  195. , 3250. ],\n",
       "       ...,\n",
       "       [  50.4,   15.7,  222. , 5750. ],\n",
       "       [  45.2,   14.8,  212. , 5200. ],\n",
       "       [  49.9,   16.1,  213. , 5400. ]])"
      ]
     },
     "execution_count": 18,
     "metadata": {},
     "output_type": "execute_result"
    }
   ],
   "source": [
    "iterative_imputer = IterativeImputer(estimator=LinearRegression())\n",
    "iterative_imputer.fit_transform(penguins[['bill_length_mm', 'bill_depth_mm', 'flipper_length_mm', 'body_mass_g']])"
   ]
  },
  {
   "cell_type": "markdown",
   "id": "860c7bec-1e5f-4b10-bce1-12054f4eaed8",
   "metadata": {
    "tags": []
   },
   "source": [
    "#### *Tratamento de dados discrepantes* "
   ]
  },
  {
   "cell_type": "code",
   "execution_count": 19,
   "id": "57ce69fd-b506-40f8-9d2c-bd3b83198369",
   "metadata": {},
   "outputs": [],
   "source": [
    "from numpy.random import RandomState"
   ]
  },
  {
   "cell_type": "code",
   "execution_count": 20,
   "id": "2ec26111-c5db-4308-ae1e-6c341b217f36",
   "metadata": {},
   "outputs": [
    {
     "data": {
      "text/html": [
       "<div>\n",
       "<style scoped>\n",
       "    .dataframe tbody tr th:only-of-type {\n",
       "        vertical-align: middle;\n",
       "    }\n",
       "\n",
       "    .dataframe tbody tr th {\n",
       "        vertical-align: top;\n",
       "    }\n",
       "\n",
       "    .dataframe thead th {\n",
       "        text-align: right;\n",
       "    }\n",
       "</style>\n",
       "<table border=\"1\" class=\"dataframe\">\n",
       "  <thead>\n",
       "    <tr style=\"text-align: right;\">\n",
       "      <th></th>\n",
       "      <th>x1</th>\n",
       "      <th>x2</th>\n",
       "    </tr>\n",
       "  </thead>\n",
       "  <tbody>\n",
       "    <tr>\n",
       "      <th>0</th>\n",
       "      <td>3.986857</td>\n",
       "      <td>1.446943</td>\n",
       "    </tr>\n",
       "    <tr>\n",
       "      <th>1</th>\n",
       "      <td>4.590754</td>\n",
       "      <td>8.092119</td>\n",
       "    </tr>\n",
       "    <tr>\n",
       "      <th>2</th>\n",
       "      <td>1.063387</td>\n",
       "      <td>1.063452</td>\n",
       "    </tr>\n",
       "    <tr>\n",
       "      <th>3</th>\n",
       "      <td>8.316851</td>\n",
       "      <td>5.069739</td>\n",
       "    </tr>\n",
       "    <tr>\n",
       "      <th>4</th>\n",
       "      <td>0.122102</td>\n",
       "      <td>4.170240</td>\n",
       "    </tr>\n",
       "  </tbody>\n",
       "</table>\n",
       "</div>"
      ],
      "text/plain": [
       "         x1        x2\n",
       "0  3.986857  1.446943\n",
       "1  4.590754  8.092119\n",
       "2  1.063387  1.063452\n",
       "3  8.316851  5.069739\n",
       "4  0.122102  4.170240"
      ]
     },
     "metadata": {},
     "output_type": "display_data"
    }
   ],
   "source": [
    "r = RandomState(seed = 42)\n",
    "\n",
    "points = 1000\n",
    "outliers = 100\n",
    "\n",
    "data = pd.DataFrame(\n",
    "    np.vstack([\n",
    "        2+r.randn(outliers, 2)*4,\n",
    "        r.randn(points, 2)]),\n",
    "    columns = ['x1', 'x2'])\n",
    "display(data.head())"
   ]
  },
  {
   "cell_type": "code",
   "execution_count": 21,
   "id": "b1cb3ccd-c1fd-451a-9426-35c7653b3f1b",
   "metadata": {},
   "outputs": [
    {
     "data": {
      "image/png": "[encoded data removed]",
      "text/plain": [
       "<Figure size 432x288 with 1 Axes>"
      ]
     },
     "metadata": {
      "needs_background": "light"
     },
     "output_type": "display_data"
    }
   ],
   "source": [
    "sns.scatterplot(x = 'x1', y = 'x2', data = data)\n",
    "plt.gca().set_aspect('equal', 'box')\n",
    "plt.show()"
   ]
  },
  {
   "cell_type": "code",
   "execution_count": 22,
   "id": "8a440356-0be9-4c31-b91d-ced09dfbd1a6",
   "metadata": {},
   "outputs": [],
   "source": [
    "from sklearn.pipeline import TransformerMixin\n",
    "from scipy.spatial.distance import cdist"
   ]
  },
  {
   "cell_type": "code",
   "execution_count": 23,
   "id": "fbd551a4-c294-4f3a-b4ff-8d8f7d889eb9",
   "metadata": {},
   "outputs": [],
   "source": [
    "class OutlierExtractor(TransformerMixin):\n",
    "    def __init__(self, threshold = 3, **kwargs):\n",
    "        self.threshold = threshold\n",
    "        self.kwargs = kwargs\n",
    "    \n",
    "    def transform(self, X, y = None):\n",
    "        X = np.asarray(X)\n",
    "        std = np.std(X)\n",
    "        outliers_zscore = np.abs(cdist(X.mean(axis=0)[np.newaxis], X) / std)[0]\n",
    "        if y:\n",
    "            y = np.asarray(y)\n",
    "            return(\n",
    "                X[outliers_zscore >= self.threshold, :],\n",
    "                y[outliers_zscore >= self.threshold, :]\n",
    "            )\n",
    "        return X[outliers_zscore >= self.threshold, :]\n",
    "    def fit(self, *args, **kwargs):\n",
    "        return self\n",
    "        "
   ]
  },
  {
   "cell_type": "code",
   "execution_count": 24,
   "id": "94a166d2-fdea-492b-92c2-3a9243573394",
   "metadata": {},
   "outputs": [],
   "source": [
    "outlier_transform = OutlierExtractor(threshold=3)\n",
    "outlier_transform.fit(data)\n",
    "X_new = outlier_transform.transform(data)"
   ]
  },
  {
   "cell_type": "code",
   "execution_count": 25,
   "id": "8175e3bf-06c3-4de8-a5db-e5998ee39f35",
   "metadata": {},
   "outputs": [
    {
     "data": {
      "image/png": "[encoded data removed]",
      "text/plain": [
       "<Figure size 432x288 with 1 Axes>"
      ]
     },
     "metadata": {
      "needs_background": "light"
     },
     "output_type": "display_data"
    }
   ],
   "source": [
    "sns.scatterplot(x='x1', y='x2', data=data)\n",
    "sns.scatterplot(x=X_new[:, 0], y=X_new[: , 1])\n",
    "plt.gca().set_aspect('equal', 'box')\n",
    "plt.show()"
   ]
  },
  {
   "cell_type": "markdown",
   "id": "2dbca380-2ba4-48c1-a0ed-0c3cbd57acc6",
   "metadata": {
    "tags": []
   },
   "source": [
    "#### *Seleção de variáveis*\n",
    "\n",
    "Processo de selecionar as características mais importantes de um dataset, com o objetivo de otimizar a performance do modelo."
   ]
  },
  {
   "cell_type": "code",
   "execution_count": 26,
   "id": "94b8b7d2-5810-4d93-a854-ed328407a7f0",
   "metadata": {},
   "outputs": [],
   "source": [
    "from sklearn.feature_selection import (\n",
    "    VarianceThreshold,\n",
    "    SelectKBest,\n",
    "    chi2,\n",
    "    SelectFromModel \n",
    ")\n",
    "from sklearn.linear_model import LogisticRegression"
   ]
  },
  {
   "cell_type": "code",
   "execution_count": 27,
   "id": "90bc7c07-df67-4ad4-9f41-7b080f0cf6c9",
   "metadata": {},
   "outputs": [
    {
     "data": {
      "text/html": [
       "<div>\n",
       "<style scoped>\n",
       "    .dataframe tbody tr th:only-of-type {\n",
       "        vertical-align: middle;\n",
       "    }\n",
       "\n",
       "    .dataframe tbody tr th {\n",
       "        vertical-align: top;\n",
       "    }\n",
       "\n",
       "    .dataframe thead th {\n",
       "        text-align: right;\n",
       "    }\n",
       "</style>\n",
       "<table border=\"1\" class=\"dataframe\">\n",
       "  <thead>\n",
       "    <tr style=\"text-align: right;\">\n",
       "      <th></th>\n",
       "      <th>pixel_0_0</th>\n",
       "      <th>pixel_0_1</th>\n",
       "      <th>pixel_0_2</th>\n",
       "      <th>pixel_0_3</th>\n",
       "      <th>pixel_0_4</th>\n",
       "      <th>pixel_0_5</th>\n",
       "      <th>pixel_0_6</th>\n",
       "      <th>pixel_0_7</th>\n",
       "      <th>pixel_1_0</th>\n",
       "      <th>pixel_1_1</th>\n",
       "      <th>...</th>\n",
       "      <th>pixel_6_7</th>\n",
       "      <th>pixel_7_0</th>\n",
       "      <th>pixel_7_1</th>\n",
       "      <th>pixel_7_2</th>\n",
       "      <th>pixel_7_3</th>\n",
       "      <th>pixel_7_4</th>\n",
       "      <th>pixel_7_5</th>\n",
       "      <th>pixel_7_6</th>\n",
       "      <th>pixel_7_7</th>\n",
       "      <th>target</th>\n",
       "    </tr>\n",
       "  </thead>\n",
       "  <tbody>\n",
       "    <tr>\n",
       "      <th>0</th>\n",
       "      <td>0.0</td>\n",
       "      <td>0.0</td>\n",
       "      <td>5.0</td>\n",
       "      <td>13.0</td>\n",
       "      <td>9.0</td>\n",
       "      <td>1.0</td>\n",
       "      <td>0.0</td>\n",
       "      <td>0.0</td>\n",
       "      <td>0.0</td>\n",
       "      <td>0.0</td>\n",
       "      <td>...</td>\n",
       "      <td>0.0</td>\n",
       "      <td>0.0</td>\n",
       "      <td>0.0</td>\n",
       "      <td>6.0</td>\n",
       "      <td>13.0</td>\n",
       "      <td>10.0</td>\n",
       "      <td>0.0</td>\n",
       "      <td>0.0</td>\n",
       "      <td>0.0</td>\n",
       "      <td>0</td>\n",
       "    </tr>\n",
       "    <tr>\n",
       "      <th>1</th>\n",
       "      <td>0.0</td>\n",
       "      <td>0.0</td>\n",
       "      <td>0.0</td>\n",
       "      <td>12.0</td>\n",
       "      <td>13.0</td>\n",
       "      <td>5.0</td>\n",
       "      <td>0.0</td>\n",
       "      <td>0.0</td>\n",
       "      <td>0.0</td>\n",
       "      <td>0.0</td>\n",
       "      <td>...</td>\n",
       "      <td>0.0</td>\n",
       "      <td>0.0</td>\n",
       "      <td>0.0</td>\n",
       "      <td>0.0</td>\n",
       "      <td>11.0</td>\n",
       "      <td>16.0</td>\n",
       "      <td>10.0</td>\n",
       "      <td>0.0</td>\n",
       "      <td>0.0</td>\n",
       "      <td>1</td>\n",
       "    </tr>\n",
       "    <tr>\n",
       "      <th>2</th>\n",
       "      <td>0.0</td>\n",
       "      <td>0.0</td>\n",
       "      <td>0.0</td>\n",
       "      <td>4.0</td>\n",
       "      <td>15.0</td>\n",
       "      <td>12.0</td>\n",
       "      <td>0.0</td>\n",
       "      <td>0.0</td>\n",
       "      <td>0.0</td>\n",
       "      <td>0.0</td>\n",
       "      <td>...</td>\n",
       "      <td>0.0</td>\n",
       "      <td>0.0</td>\n",
       "      <td>0.0</td>\n",
       "      <td>0.0</td>\n",
       "      <td>3.0</td>\n",
       "      <td>11.0</td>\n",
       "      <td>16.0</td>\n",
       "      <td>9.0</td>\n",
       "      <td>0.0</td>\n",
       "      <td>2</td>\n",
       "    </tr>\n",
       "    <tr>\n",
       "      <th>3</th>\n",
       "      <td>0.0</td>\n",
       "      <td>0.0</td>\n",
       "      <td>7.0</td>\n",
       "      <td>15.0</td>\n",
       "      <td>13.0</td>\n",
       "      <td>1.0</td>\n",
       "      <td>0.0</td>\n",
       "      <td>0.0</td>\n",
       "      <td>0.0</td>\n",
       "      <td>8.0</td>\n",
       "      <td>...</td>\n",
       "      <td>0.0</td>\n",
       "      <td>0.0</td>\n",
       "      <td>0.0</td>\n",
       "      <td>7.0</td>\n",
       "      <td>13.0</td>\n",
       "      <td>13.0</td>\n",
       "      <td>9.0</td>\n",
       "      <td>0.0</td>\n",
       "      <td>0.0</td>\n",
       "      <td>3</td>\n",
       "    </tr>\n",
       "    <tr>\n",
       "      <th>4</th>\n",
       "      <td>0.0</td>\n",
       "      <td>0.0</td>\n",
       "      <td>0.0</td>\n",
       "      <td>1.0</td>\n",
       "      <td>11.0</td>\n",
       "      <td>0.0</td>\n",
       "      <td>0.0</td>\n",
       "      <td>0.0</td>\n",
       "      <td>0.0</td>\n",
       "      <td>0.0</td>\n",
       "      <td>...</td>\n",
       "      <td>0.0</td>\n",
       "      <td>0.0</td>\n",
       "      <td>0.0</td>\n",
       "      <td>0.0</td>\n",
       "      <td>2.0</td>\n",
       "      <td>16.0</td>\n",
       "      <td>4.0</td>\n",
       "      <td>0.0</td>\n",
       "      <td>0.0</td>\n",
       "      <td>4</td>\n",
       "    </tr>\n",
       "  </tbody>\n",
       "</table>\n",
       "<p>5 rows × 65 columns</p>\n",
       "</div>"
      ],
      "text/plain": [
       "   pixel_0_0  pixel_0_1  pixel_0_2  pixel_0_3  pixel_0_4  pixel_0_5  \\\n",
       "0        0.0        0.0        5.0       13.0        9.0        1.0   \n",
       "1        0.0        0.0        0.0       12.0       13.0        5.0   \n",
       "2        0.0        0.0        0.0        4.0       15.0       12.0   \n",
       "3        0.0        0.0        7.0       15.0       13.0        1.0   \n",
       "4        0.0        0.0        0.0        1.0       11.0        0.0   \n",
       "\n",
       "   pixel_0_6  pixel_0_7  pixel_1_0  pixel_1_1  ...  pixel_6_7  pixel_7_0  \\\n",
       "0        0.0        0.0        0.0        0.0  ...        0.0        0.0   \n",
       "1        0.0        0.0        0.0        0.0  ...        0.0        0.0   \n",
       "2        0.0        0.0        0.0        0.0  ...        0.0        0.0   \n",
       "3        0.0        0.0        0.0        8.0  ...        0.0        0.0   \n",
       "4        0.0        0.0        0.0        0.0  ...        0.0        0.0   \n",
       "\n",
       "   pixel_7_1  pixel_7_2  pixel_7_3  pixel_7_4  pixel_7_5  pixel_7_6  \\\n",
       "0        0.0        6.0       13.0       10.0        0.0        0.0   \n",
       "1        0.0        0.0       11.0       16.0       10.0        0.0   \n",
       "2        0.0        0.0        3.0       11.0       16.0        9.0   \n",
       "3        0.0        7.0       13.0       13.0        9.0        0.0   \n",
       "4        0.0        0.0        2.0       16.0        4.0        0.0   \n",
       "\n",
       "   pixel_7_7  target  \n",
       "0        0.0       0  \n",
       "1        0.0       1  \n",
       "2        0.0       2  \n",
       "3        0.0       3  \n",
       "4        0.0       4  \n",
       "\n",
       "[5 rows x 65 columns]"
      ]
     },
     "execution_count": 27,
     "metadata": {},
     "output_type": "execute_result"
    }
   ],
   "source": [
    "from sklearn.datasets import load_digits\n",
    "digits = load_digits(as_frame=True)\n",
    "df_digits = digits['frame']\n",
    "df_digits.head()"
   ]
  },
  {
   "cell_type": "code",
   "execution_count": 28,
   "id": "8024079f-3987-45d4-a66e-3cfec61e3d36",
   "metadata": {},
   "outputs": [
    {
     "data": {
      "image/png": "[encoded data removed]",
      "text/plain": [
       "<Figure size 432x432 with 100 Axes>"
      ]
     },
     "metadata": {
      "needs_background": "light"
     },
     "output_type": "display_data"
    }
   ],
   "source": [
    "X, y = digits.data, digits.target\n",
    "\n",
    "samples, features = X.shape\n",
    "neighbours = 30\n",
    "fig, axs = plt.subplots(nrows=10, ncols=10, figsize=(6,6))\n",
    "for idx, ax in enumerate(axs.ravel()):\n",
    "    digits.images\n",
    "    ax.imshow(digits.images[idx], cmap=plt.cm.binary)\n",
    "    ax.axis('off')\n",
    "_ = fig.suptitle(\"Seleção de dígitos\", fontsize=18)"
   ]
  },
  {
   "cell_type": "markdown",
   "id": "a9bc63a5-96eb-44d0-be4a-28aaa3b70a74",
   "metadata": {},
   "source": [
    "2.1. Não supervisionados"
   ]
  },
  {
   "cell_type": "markdown",
   "id": "d40bd294-a0a3-470e-81b9-cea02bb330e5",
   "metadata": {},
   "source": [
    "2.1.1. Baixa variância"
   ]
  },
  {
   "cell_type": "code",
   "execution_count": 29,
   "id": "3db6b5a3-a2e3-45f9-a7d4-2262f33632fe",
   "metadata": {},
   "outputs": [
    {
     "data": {
      "text/markdown": [
       "Conjunto original"
      ],
      "text/plain": [
       "<IPython.core.display.Markdown object>"
      ]
     },
     "metadata": {},
     "output_type": "display_data"
    },
    {
     "data": {
      "text/plain": [
       "(1797, 64)"
      ]
     },
     "metadata": {},
     "output_type": "display_data"
    }
   ],
   "source": [
    "display(Markdown('Conjunto original'))\n",
    "display(X.shape)"
   ]
  },
  {
   "cell_type": "code",
   "execution_count": 41,
   "id": "81b90409-fb4e-439f-a3d9-49e9c47d0b07",
   "metadata": {},
   "outputs": [
    {
     "name": "stdout",
     "output_type": "stream",
     "text": [
      "Conjunto transformado\n"
     ]
    },
    {
     "data": {
      "text/plain": [
       "(1797, 48)"
      ]
     },
     "execution_count": 41,
     "metadata": {},
     "output_type": "execute_result"
    }
   ],
   "source": [
    "threshold_25 = np.quantile(X.std(), 0.25)\n",
    "variance_selector = VarianceThreshold(threshold = threshold_25)\n",
    "print('Conjunto transformado')\n",
    "variance_selector.fit_transform(X).shape"
   ]
  },
  {
   "cell_type": "markdown",
   "id": "e439e1ff-0a88-4ce5-b56d-b65170439cb8",
   "metadata": {},
   "source": [
    "2.2 Supervisionados"
   ]
  },
  {
   "cell_type": "markdown",
   "id": "74e863ed-d5b7-463a-aacc-fe239e1c6cc4",
   "metadata": {},
   "source": [
    "2.2.1 Filtragem"
   ]
  },
  {
   "cell_type": "code",
   "execution_count": 54,
   "id": "d6d9a5bb-f0ea-443f-a54c-bf4541acd9b4",
   "metadata": {},
   "outputs": [
    {
     "data": {
      "text/markdown": [
       "Original"
      ],
      "text/plain": [
       "<IPython.core.display.Markdown object>"
      ]
     },
     "metadata": {},
     "output_type": "display_data"
    },
    {
     "data": {
      "text/plain": [
       "(1797, 64)"
      ]
     },
     "metadata": {},
     "output_type": "display_data"
    }
   ],
   "source": [
    "display(Markdown('Original'))\n",
    "display(X.shape)"
   ]
  },
  {
   "cell_type": "code",
   "execution_count": 53,
   "id": "83085916-0717-4f29-9ab2-f87d3973e895",
   "metadata": {},
   "outputs": [
    {
     "data": {
      "text/markdown": [
       "Transformado"
      ],
      "text/plain": [
       "<IPython.core.display.Markdown object>"
      ]
     },
     "metadata": {},
     "output_type": "display_data"
    },
    {
     "data": {
      "text/plain": [
       "(1797, 30)"
      ]
     },
     "metadata": {},
     "output_type": "display_data"
    }
   ],
   "source": [
    "kbest_selector = SelectKBest(score_func=chi2, k=30)\n",
    "kbest_selector.fit(X, y)\n",
    "display(Markdown('Transformado'))\n",
    "display(kbest_selector.transform(X).shape)"
   ]
  },
  {
   "cell_type": "markdown",
   "id": "399adbf5-e4da-4fd0-9ca0-d3cd94f54471",
   "metadata": {},
   "source": [
    "2.2.2 Embrulho"
   ]
  },
  {
   "cell_type": "code",
   "execution_count": 56,
   "id": "ce9dd6f6-49a6-414d-bf07-933a342555ff",
   "metadata": {},
   "outputs": [
    {
     "name": "stdout",
     "output_type": "stream",
     "text": [
      "Original\n"
     ]
    },
    {
     "data": {
      "text/plain": [
       "(1797, 64)"
      ]
     },
     "execution_count": 56,
     "metadata": {},
     "output_type": "execute_result"
    }
   ],
   "source": [
    "print('Original')\n",
    "X.shape"
   ]
  },
  {
   "cell_type": "code",
   "execution_count": 59,
   "id": "70197273-be0d-4793-83f3-71ac92b1e242",
   "metadata": {},
   "outputs": [
    {
     "name": "stdout",
     "output_type": "stream",
     "text": [
      "Transformado\n"
     ]
    },
    {
     "name": "stderr",
     "output_type": "stream",
     "text": [
      "/home/cristina/.cache/pypoetry/virtualenvs/src-nHypXHFi-py3.8/lib/python3.8/site-packages/sklearn/linear_model/_logistic.py:444: ConvergenceWarning: lbfgs failed to converge (status=1):\n",
      "STOP: TOTAL NO. of ITERATIONS REACHED LIMIT.\n",
      "\n",
      "Increase the number of iterations (max_iter) or scale the data as shown in:\n",
      "    https://scikit-learn.org/stable/modules/preprocessing.html\n",
      "Please also refer to the documentation for alternative solver options:\n",
      "    https://scikit-learn.org/stable/modules/linear_model.html#logistic-regression\n",
      "  n_iter_i = _check_optimize_result(\n"
     ]
    },
    {
     "data": {
      "text/plain": [
       "(1797, 38)"
      ]
     },
     "metadata": {},
     "output_type": "display_data"
    }
   ],
   "source": [
    "wrapper_selector = SelectFromModel(estimator=LogisticRegression())\n",
    "wrapper_selector.fit(X, y)\n",
    "print('Transformado')\n",
    "display(wrapper_selector.transform(X).shape)"
   ]
  },
  {
   "cell_type": "markdown",
   "id": "cb701fe2-559e-4d04-9b3a-13b49f7515e5",
   "metadata": {},
   "source": [
    "#### *Normalização*\n",
    "\n",
    "Padronização da escala para que todos as variáveis possam ser comparadas entre si."
   ]
  },
  {
   "cell_type": "code",
   "execution_count": 87,
   "id": "09992380-9f1b-4878-a508-0b5517eda5fe",
   "metadata": {},
   "outputs": [
    {
     "data": {
      "image/png": "[encoded data removed]",
      "text/plain": [
       "<Figure size 432x288 with 1 Axes>"
      ]
     },
     "metadata": {
      "needs_background": "light"
     },
     "output_type": "display_data"
    }
   ],
   "source": [
    "r = RandomState(seed=42)\n",
    "points = 1000\n",
    "outliers = 100\n",
    "df = pd.DataFrame(\n",
    "    np.vstack([\n",
    "        2+r.randn(outliers, 2)*[3, 5],\n",
    "        r.randn(points-outliers, 2)]), \n",
    "    columns=['x1', 'x2'])\n",
    "old_df = df.copy()\n",
    "df.head()\n",
    "sns.scatterplot(x = 'x1', y = 'x2', data=df)\n",
    "plt.gca().set_aspect('equal', 'box')\n",
    "plt.show()"
   ]
  },
  {
   "cell_type": "code",
   "execution_count": 73,
   "id": "972f6fb6-cd6f-4c67-985e-f6462801a9de",
   "metadata": {},
   "outputs": [],
   "source": [
    "from sklearn.preprocessing import StandardScaler, MinMaxScaler, RobustScaler"
   ]
  },
  {
   "cell_type": "markdown",
   "id": "4abd5759-59fe-406d-9eda-1903d99f4490",
   "metadata": {},
   "source": [
    "3.1 min-max"
   ]
  },
  {
   "cell_type": "code",
   "execution_count": 75,
   "id": "aeae7054-2c44-4ed6-88b4-d75c41239fd4",
   "metadata": {},
   "outputs": [],
   "source": [
    "min_max = MinMaxScaler()\n",
    "df_min_max = df.copy()\n",
    "df_min_max[:] = min_max.fit_transform(df_min_max)"
   ]
  },
  {
   "cell_type": "markdown",
   "id": "f2bf56ed-6657-46fc-b8cf-3b388798965b",
   "metadata": {},
   "source": [
    "3.2 z-score"
   ]
  },
  {
   "cell_type": "code",
   "execution_count": 77,
   "id": "8164d890-0e40-4467-ba28-0f38b7b4b28d",
   "metadata": {},
   "outputs": [],
   "source": [
    "zscore_scaler = StandardScaler()\n",
    "df_zscore = df.copy()\n",
    "df_zscore[:] = zscore_scaler.fit_transform(df_zscore)"
   ]
  },
  {
   "cell_type": "markdown",
   "id": "175d80c6-621a-440e-a312-9f30979f90e8",
   "metadata": {},
   "source": [
    "3.3 robusta"
   ]
  },
  {
   "cell_type": "code",
   "execution_count": 78,
   "id": "98bfbe8c-c017-4c06-9e60-c75c48cc3a55",
   "metadata": {},
   "outputs": [],
   "source": [
    "robust = RobustScaler()\n",
    "df_robust = df.copy()\n",
    "df_robust[:] = robust.fit_transform(df_robust)"
   ]
  },
  {
   "cell_type": "code",
   "execution_count": 92,
   "id": "bd443dfb-1d7d-4376-b23f-a1d890855a42",
   "metadata": {},
   "outputs": [
    {
     "data": {
      "image/png": "[encoded data removed]",
      "text/plain": [
       "<Figure size 720x720 with 4 Axes>"
      ]
     },
     "metadata": {
      "needs_background": "light"
     },
     "output_type": "display_data"
    }
   ],
   "source": [
    "fig, axes = plt.subplots(2, 2, figsize=(10, 10))\n",
    "\n",
    "def scatter_plot(data, title, ax1, ax2):  \n",
    "    sns.scatterplot(\n",
    "        x='x1', y='x2', \n",
    "        data=data, \n",
    "        ax=axes[ax1,ax2])\n",
    "    axes[ax1, ax2].set_title(title)\n",
    "    \n",
    "scatter_plot(old_df, 'Original', 0, 0)\n",
    "scatter_plot(df_min_max, 'Min-Max', 1, 1)\n",
    "scatter_plot(df_zscore, 'Z-Score', 1, 0)\n",
    "scatter_plot(df_robust, 'Robusta', 0, 1)"
   ]
  },
  {
   "cell_type": "code",
   "execution_count": null,
   "id": "4e62184e-4308-4aad-a27a-2b027304296b",
   "metadata": {},
   "outputs": [],
   "source": []
  }
 ],
 "metadata": {
  "kernelspec": {
   "display_name": "Python 3 (ipykernel)",
   "language": "python",
   "name": "python3"
  },
  "language_info": {
   "codemirror_mode": {
    "name": "ipython",
    "version": 3
   },
   "file_extension": ".py",
   "mimetype": "text/x-python",
   "name": "python",
   "nbconvert_exporter": "python",
   "pygments_lexer": "ipython3",
   "version": "3.8.10"
  }
 },
 "nbformat": 4,
 "nbformat_minor": 5
}
